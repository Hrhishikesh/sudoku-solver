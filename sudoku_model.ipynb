{
 "cells": [
  {
   "cell_type": "code",
   "execution_count": 2,
   "metadata": {},
   "outputs": [
    {
     "name": "stdout",
     "output_type": "stream",
     "text": [
      "test\n"
     ]
    }
   ],
   "source": [
    "print(\"test\")"
   ]
  },
  {
   "cell_type": "code",
   "execution_count": 3,
   "metadata": {},
   "outputs": [],
   "source": [
    "from tensorflow import keras\n",
    "from tensorflow.keras.datasets import mnist\n",
    "from tensorflow.keras.models import Sequential\n",
    "from tensorflow.keras.layers import Dense\n",
    "from tensorflow.keras.layers import Dropout\n",
    "from tensorflow.keras.layers import Flatten\n",
    "from tensorflow.keras.layers import Conv2D\n",
    "from tensorflow.keras.layers import MaxPooling2D\n",
    "from tensorflow.keras.utils import to_categorical\n",
    "import datetime\n",
    "import numpy as np"
   ]
  },
  {
   "cell_type": "code",
   "execution_count": 4,
   "metadata": {},
   "outputs": [],
   "source": [
    "import os \n",
    "import cv2"
   ]
  },
  {
   "cell_type": "code",
   "execution_count": 33,
   "metadata": {},
   "outputs": [],
   "source": [
    "from matplotlib import pyplot as plt"
   ]
  },
  {
   "cell_type": "code",
   "execution_count": 28,
   "metadata": {},
   "outputs": [],
   "source": [
    "X = []\n",
    "y = []\n",
    "path = r\"E:\\IITB\\Semester_2\\EE_769\\Assignments\\Projects\\Sudoku\\Resources\"\n",
    "for i in range(10):\n",
    "    for d in os.listdir(\"data/{}\".format(i)):\n",
    "        img = cv2.imread(\"data/{}\".format(i) +\"/\" + d)\n",
    "        img = cv2.cvtColor(img,cv2.COLOR_BGR2GRAY)\n",
    "        X.append(img)\n",
    "        y.append(i)"
   ]
  },
  {
   "cell_type": "code",
   "execution_count": 29,
   "metadata": {},
   "outputs": [
    {
     "name": "stdout",
     "output_type": "stream",
     "text": [
      "Shape of X is : \n",
      " (6299, 28, 28)\n",
      "Shape of Y is : \n",
      " (6299,)\n"
     ]
    }
   ],
   "source": [
    "x_array = np.array(X)\n",
    "y_array = np.array(y)\n",
    "print(\"Shape of X is : \\n\",x_array.shape)\n",
    "print(\"Shape of Y is : \\n\",y_array.shape)"
   ]
  },
  {
   "cell_type": "code",
   "execution_count": 42,
   "metadata": {},
   "outputs": [
    {
     "data": {
      "image/png": "[encoded data removed]",
      "text/plain": [
       "<Figure size 640x480 with 1 Axes>"
      ]
     },
     "metadata": {},
     "output_type": "display_data"
    }
   ],
   "source": [
    "plt.imshow(X[2030])\n",
    "plt.title(\"Sample of '2' \")\n",
    "plt.show()"
   ]
  },
  {
   "cell_type": "code",
   "execution_count": 43,
   "metadata": {},
   "outputs": [],
   "source": [
    "from sklearn.model_selection import train_test_split"
   ]
  },
  {
   "cell_type": "code",
   "execution_count": 44,
   "metadata": {},
   "outputs": [],
   "source": [
    "x_train, x_test, y_train, y_test = train_test_split(x_array,y_array,test_size=0.2,random_state=42)"
   ]
  },
  {
   "cell_type": "code",
   "execution_count": 45,
   "metadata": {},
   "outputs": [
    {
     "data": {
      "text/plain": [
       "(5039, 28, 28)"
      ]
     },
     "execution_count": 45,
     "metadata": {},
     "output_type": "execute_result"
    }
   ],
   "source": [
    "x_train.shape"
   ]
  },
  {
   "cell_type": "code",
   "execution_count": 48,
   "metadata": {},
   "outputs": [
    {
     "data": {
      "text/plain": [
       "(1260, 28, 28)"
      ]
     },
     "execution_count": 48,
     "metadata": {},
     "output_type": "execute_result"
    }
   ],
   "source": [
    "x_test.shape"
   ]
  },
  {
   "cell_type": "code",
   "execution_count": 49,
   "metadata": {},
   "outputs": [],
   "source": [
    "#Reshaping the data in 4D array for CNN\n",
    "#float32 is the standard data type of many CNNs\n",
    "X_train = x_train.reshape((x_train.shape[0], 28, 28, 1)).astype('float32')\n",
    "X_test = x_test.reshape((x_test.shape[0], 28, 28, 1)).astype('float32')"
   ]
  },
  {
   "cell_type": "code",
   "execution_count": null,
   "metadata": {},
   "outputs": [],
   "source": []
  },
  {
   "cell_type": "code",
   "execution_count": 50,
   "metadata": {},
   "outputs": [],
   "source": [
    "# Normalizing the inputs to 0-1\n",
    "\n",
    "x_train = x_train / 255\n",
    "x_test = x_test / 255\n",
    "\n"
   ]
  },
  {
   "cell_type": "code",
   "execution_count": 51,
   "metadata": {},
   "outputs": [
    {
     "name": "stdout",
     "output_type": "stream",
     "text": [
      "The Shape of Testing set y is : \n",
      "  (1260, 10)\n",
      "The number of classes is : \n",
      "  10\n"
     ]
    }
   ],
   "source": [
    "# One hot encoding the outputs\n",
    "\n",
    "y_train = to_categorical(y_train)\n",
    "y_test = to_categorical(y_test)\n",
    "\n",
    "print(\"The Shape of Testing set y is : \\n \",y_test.shape)\n",
    "print(\"The number of classes is : \\n \", y_test.shape[1])"
   ]
  },
  {
   "cell_type": "code",
   "execution_count": 71,
   "metadata": {},
   "outputs": [
    {
     "data": {
      "text/plain": [
       "(28, 28)"
      ]
     },
     "execution_count": 71,
     "metadata": {},
     "output_type": "execute_result"
    }
   ],
   "source": [
    "x_test[0].shape"
   ]
  },
  {
   "cell_type": "code",
   "execution_count": 54,
   "metadata": {},
   "outputs": [],
   "source": [
    "model = keras.Sequential(\n",
    "    [\n",
    "        Conv2D(30, (5, 5), input_shape=(28, 28, 1), activation='relu'),\n",
    "        MaxPooling2D(),\n",
    "        Conv2D(15, (3, 3), activation='relu'),\n",
    "        MaxPooling2D(),\n",
    "        Dropout(0.2),\n",
    "        Flatten(),\n",
    "        Dense(128, activation='relu'),\n",
    "        Dense(50, activation='relu'),\n",
    "        Dense(10, activation='softmax')\n",
    "])\n",
    "    \n",
    "\n",
    "# Compile model\n",
    "model.compile(loss='categorical_crossentropy', optimizer='adam', metrics=['accuracy'])\n"
   ]
  },
  {
   "cell_type": "code",
   "execution_count": 55,
   "metadata": {},
   "outputs": [
    {
     "name": "stdout",
     "output_type": "stream",
     "text": [
      "Epoch 1/10\n",
      "252/252 [==============================] - 26s 40ms/step - loss: 1.5572 - accuracy: 0.4451 - val_loss: 0.9086 - val_accuracy: 0.7183\n",
      "Epoch 2/10\n",
      "252/252 [==============================] - 7s 28ms/step - loss: 0.6775 - accuracy: 0.7716 - val_loss: 0.4002 - val_accuracy: 0.8778\n",
      "Epoch 3/10\n",
      "252/252 [==============================] - 7s 26ms/step - loss: 0.3722 - accuracy: 0.8849 - val_loss: 0.2440 - val_accuracy: 0.9238\n",
      "Epoch 4/10\n",
      "252/252 [==============================] - 7s 27ms/step - loss: 0.2587 - accuracy: 0.9204 - val_loss: 0.1816 - val_accuracy: 0.9429\n",
      "Epoch 5/10\n",
      "252/252 [==============================] - 7s 29ms/step - loss: 0.1715 - accuracy: 0.9474 - val_loss: 0.1588 - val_accuracy: 0.9556\n",
      "Epoch 6/10\n",
      "252/252 [==============================] - 8s 31ms/step - loss: 0.1277 - accuracy: 0.9597 - val_loss: 0.1253 - val_accuracy: 0.9690\n",
      "Epoch 7/10\n",
      "252/252 [==============================] - 7s 29ms/step - loss: 0.1035 - accuracy: 0.9692 - val_loss: 0.1344 - val_accuracy: 0.9635\n",
      "Epoch 8/10\n",
      "252/252 [==============================] - 7s 29ms/step - loss: 0.0949 - accuracy: 0.9686 - val_loss: 0.0994 - val_accuracy: 0.9794\n",
      "Epoch 9/10\n",
      "252/252 [==============================] - 7s 28ms/step - loss: 0.0597 - accuracy: 0.9815 - val_loss: 0.0902 - val_accuracy: 0.9817\n",
      "Epoch 10/10\n",
      "252/252 [==============================] - 7s 29ms/step - loss: 0.0676 - accuracy: 0.9762 - val_loss: 0.0982 - val_accuracy: 0.9778\n"
     ]
    },
    {
     "data": {
      "text/plain": [
       "<keras.callbacks.History at 0x2146b4ef760>"
      ]
     },
     "execution_count": 55,
     "metadata": {},
     "output_type": "execute_result"
    }
   ],
   "source": [
    "model.fit(x_train,y_train,validation_data = (x_test,y_test),epochs = 10, batch_size = 20)\n"
   ]
  },
  {
   "cell_type": "code",
   "execution_count": 58,
   "metadata": {},
   "outputs": [
    {
     "name": "stdout",
     "output_type": "stream",
     "text": [
      "40/40 [==============================] - 0s 10ms/step\n"
     ]
    },
    {
     "data": {
      "text/plain": [
       "(1260, 10)"
      ]
     },
     "execution_count": 58,
     "metadata": {},
     "output_type": "execute_result"
    }
   ],
   "source": [
    "pred = model.predict(x_test,verbose =1)\n",
    "pred.shape"
   ]
  },
  {
   "cell_type": "code",
   "execution_count": 67,
   "metadata": {},
   "outputs": [
    {
     "data": {
      "text/plain": [
       "5"
      ]
     },
     "execution_count": 67,
     "metadata": {},
     "output_type": "execute_result"
    }
   ],
   "source": [
    "prediction = np.argmax(pred[3])\n",
    "prediction"
   ]
  },
  {
   "cell_type": "code",
   "execution_count": 69,
   "metadata": {},
   "outputs": [
    {
     "data": {
      "text/plain": [
       "0.9993892"
      ]
     },
     "execution_count": 69,
     "metadata": {},
     "output_type": "execute_result"
    }
   ],
   "source": [
    "probab = np.amax(pred[3])\n",
    "probab"
   ]
  },
  {
   "cell_type": "code",
   "execution_count": 66,
   "metadata": {},
   "outputs": [
    {
     "data": {
      "image/png": "[encoded data removed]",
      "text/plain": [
       "<Figure size 640x480 with 1 Axes>"
      ]
     },
     "metadata": {},
     "output_type": "display_data"
    }
   ],
   "source": [
    "plt.imshow(x_test[3])\n",
    "plt.show()"
   ]
  },
  {
   "cell_type": "code",
   "execution_count": 68,
   "metadata": {},
   "outputs": [
    {
     "name": "stdout",
     "output_type": "stream",
     "text": [
      "Model Saved!\n",
      "\n",
      " Saved Model Summary: \n",
      "\n",
      "Model: \"sequential\"\n",
      "_________________________________________________________________\n",
      " Layer (type)                Output Shape              Param #   \n",
      "=================================================================\n",
      " conv2d_4 (Conv2D)           (None, 24, 24, 30)        780       \n",
      "                                                                 \n",
      " max_pooling2d_4 (MaxPooling  (None, 12, 12, 30)       0         \n",
      " 2D)                                                             \n",
      "                                                                 \n",
      " conv2d_5 (Conv2D)           (None, 10, 10, 15)        4065      \n",
      "                                                                 \n",
      " max_pooling2d_5 (MaxPooling  (None, 5, 5, 15)         0         \n",
      " 2D)                                                             \n",
      "                                                                 \n",
      " dropout_2 (Dropout)         (None, 5, 5, 15)          0         \n",
      "                                                                 \n",
      " flatten_2 (Flatten)         (None, 375)               0         \n",
      "                                                                 \n",
      " dense_4 (Dense)             (None, 128)               48128     \n",
      "                                                                 \n",
      " dense_5 (Dense)             (None, 50)                6450      \n",
      "                                                                 \n",
      " dense_6 (Dense)             (None, 10)                510       \n",
      "                                                                 \n",
      "=================================================================\n",
      "Total params: 59,933\n",
      "Trainable params: 59,933\n",
      "Non-trainable params: 0\n",
      "_________________________________________________________________\n"
     ]
    }
   ],
   "source": [
    "model.save(\"modelsolver_v1.h5\")\n",
    "print(\"Model Saved!\")\n",
    "print(\"\\n Saved Model Summary: \\n\")\n",
    "model.summary()"
   ]
  },
  {
   "cell_type": "markdown",
   "metadata": {},
   "source": []
  },
  {
   "cell_type": "code",
   "execution_count": 79,
   "metadata": {},
   "outputs": [],
   "source": [
    "test_img = cv2.imread(r\"test_imgs\\0.jpeg\")"
   ]
  },
  {
   "cell_type": "code",
   "execution_count": 81,
   "metadata": {},
   "outputs": [
    {
     "data": {
      "text/plain": [
       "(50, 50, 3)"
      ]
     },
     "execution_count": 81,
     "metadata": {},
     "output_type": "execute_result"
    }
   ],
   "source": [
    "test_img.shape"
   ]
  },
  {
   "cell_type": "code",
   "execution_count": 82,
   "metadata": {},
   "outputs": [],
   "source": [
    "cv2.imshow(\"9\",test_img)"
   ]
  },
  {
   "cell_type": "code",
   "execution_count": null,
   "metadata": {},
   "outputs": [
    {
     "ename": "",
     "evalue": "",
     "output_type": "error",
     "traceback": [
      "\u001b[1;31mFailed to start the Kernel. \n",
      "\u001b[1;31mUnable to start Kernel 'Python 3.10.10' due to connection timeout. \n",
      "\u001b[1;31mView Jupyter <a href='command:jupyter.viewOutput'>log</a> for further details."
     ]
    }
   ],
   "source": [
    "plt.imshow(test_img)\n",
    "plt.show()"
   ]
  },
  {
   "cell_type": "code",
   "execution_count": null,
   "metadata": {},
   "outputs": [],
   "source": []
  }
 ],
 "metadata": {
  "kernelspec": {
   "display_name": "Python 3",
   "language": "python",
   "name": "python3"
  },
  "language_info": {
   "codemirror_mode": {
    "name": "ipython",
    "version": 3
   },
   "file_extension": ".py",
   "mimetype": "text/x-python",
   "name": "python",
   "nbconvert_exporter": "python",
   "pygments_lexer": "ipython3",
   "version": "3.10.10"
  },
  "orig_nbformat": 4
 },
 "nbformat": 4,
 "nbformat_minor": 2
}
